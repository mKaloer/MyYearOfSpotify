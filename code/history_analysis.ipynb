{
 "cells": [
  {
   "cell_type": "code",
   "execution_count": null,
   "id": "75969ab9-21e3-4480-8bcf-d30eea106d02",
   "metadata": {},
   "outputs": [],
   "source": [
    "import pandas as pd\n",
    "import datetime\n",
    "import numpy as np\n",
    "import pickle as pkl\n",
    "import getpass\n",
    "import datapane as dp "
   ]
  },
  {
   "cell_type": "markdown",
   "id": "01973dbe-0f50-43e0-8b01-7700cee6e734",
   "metadata": {},
   "source": [
    "# Load data and perform basic filtering"
   ]
  },
  {
   "cell_type": "code",
   "execution_count": null,
   "id": "545e292f-3fc4-47b3-a427-5106aff608b5",
   "metadata": {},
   "outputs": [],
   "source": [
    "# Constants\n",
    "TRACK_SKIP_MS = 30000 # Tracks played for less than this number of ms are considered 'skipped'\n",
    "UPLOAD_TO_DATAPANE = False"
   ]
  },
  {
   "cell_type": "code",
   "execution_count": null,
   "id": "79390969-7d07-47f7-9b4e-affba1dabbf4",
   "metadata": {},
   "outputs": [],
   "source": [
    "import json\n",
    "\n",
    "def load_track_history():\n",
    "    f1 = open('data/MyData/StreamingHistory0.json')\n",
    "    data1 = json.load(f1)\n",
    "    f2 = open('data/MyData/StreamingHistory1.json')\n",
    "    data2 = json.load(f2)\n",
    "    return pd.DataFrame(data1 + data2)\n",
    "\n",
    "\n",
    "full_track_history = load_track_history()\n",
    "# Convert timestamps to datetime\n",
    "full_track_history['endTime'] = pd.to_datetime(full_track_history['endTime'], utc=True)\n",
    "full_track_history['endTime'] = full_track_history['endTime'].dt.tz_convert('Europe/Copenhagen')\n",
    "# Add weekday info\n",
    "full_track_history['weekday'] = np.where(full_track_history['endTime'].dt.dayofweek < 5, True, False)"
   ]
  },
  {
   "cell_type": "code",
   "execution_count": null,
   "id": "84dea131-63ea-41d4-b955-2cc60e659712",
   "metadata": {},
   "outputs": [],
   "source": [
    "track_dict = pkl.load(open('../vectormodels/track_map_clean.pkl', 'rb'))\n",
    "# Add uri to track history\n",
    "track_dict_pd = pd.DataFrame.from_dict(track_dict, orient='index')\n",
    "track_dict_pd['track_uri'] = track_dict_pd.index\n",
    "# Add track uri\n",
    "full_track_history['orig_index'] = full_track_history.index\n",
    "merged_df = pd.merge(full_track_history, track_dict_pd, how='left', left_on=['artistName', 'trackName'], right_on=['artist_name', 'track_name'])[['orig_index', 'track_uri', 'artist_uri', 'album_uri']]\n",
    "# In case of multiple matches, keep only one\n",
    "merged_df = merged_df.drop_duplicates(['orig_index'])\n",
    "merged_df.index = merged_df['orig_index']\n",
    "full_track_history['track_uri'] = merged_df['track_uri']\n",
    "full_track_history['artist_uri'] = merged_df['artist_uri']\n",
    "full_track_history['album_uri'] = merged_df['album_uri']"
   ]
  },
  {
   "cell_type": "code",
   "execution_count": null,
   "id": "8698e1e1-b8c8-4203-ad3a-f488a854ccc5",
   "metadata": {},
   "outputs": [],
   "source": [
    "import spotipy\n",
    "from spotipy.oauth2 import SpotifyClientCredentials,SpotifyOAuth\n",
    "\n",
    "spotify_client_id = getpass.getpass()\n",
    "spotify_client_secret = getpass.getpass()\n",
    "\n",
    "spotify_client = spotipy.Spotify(auth_manager=SpotifyOAuth(\n",
    "    client_id=spotify_client_id, client_secret=spotify_client_secret, redirect_uri='http://localhost:8080', scope='playlist-modify-public'))\n"
   ]
  },
  {
   "cell_type": "code",
   "execution_count": null,
   "id": "2e581913-4b0f-4ab1-9cc2-7d24e920488c",
   "metadata": {},
   "outputs": [],
   "source": [
    "# Find tracks with missing uris\n",
    "tracks_with_missing_uris = full_track_history.loc[full_track_history['track_uri'].isnull()].groupby(['artistName', 'trackName']).size().reset_index(name='Frequency')\n",
    "track_results = []\n",
    "for idx,track in tracks_with_missing_uris.iterrows():\n",
    "    search = spotify_client.search(q='artist:{} track:{}'.format(track['artistName'], track['trackName']), limit=1, type='track')\n",
    "    if len(search['tracks']['items']) > 0:\n",
    "        track_result = search['tracks']['items'][0]\n",
    "        track_results.append((track['artistName'], track['trackName'], track_result))\n",
    "    else:\n",
    "        track_results.append((track['artistName'], track['trackName'], None))\n",
    "\n",
    "pkl.dump(track_results, open('track_uri_lookup_list.pkl', 'wb'))"
   ]
  },
  {
   "cell_type": "code",
   "execution_count": null,
   "id": "a9eef551-367f-4c86-8e67-e80960a90b34",
   "metadata": {},
   "outputs": [],
   "source": [
    "# Merge URIs from spotify into full_track_history\n",
    "track_results = pkl.load(open('track_uri_lookup_list.pkl', 'rb'))\n",
    "track_results_dict_list = [{'artistName': t[0], 'trackName': t[1], 'track_uri': t[2]['uri'], 'album_uri': t[2]['album']['uri'], 'artist_uri': t[2]['artists'][0]['uri']} for t in track_results if t[2] is not None]\n",
    "track_results_df = pd.DataFrame(track_results_dict_list)\n",
    "\n",
    "merged_df = pd.merge(full_track_history, track_results_df, how='left', left_on=['artistName', 'trackName'], right_on=['artistName', 'trackName'])#[['artistName', 'trackName', 'track_uri', 'artist_uri', 'album_uri']].dropna()\n",
    "merged_df.track_uri_x.fillna(merged_df.track_uri_y, inplace=True)\n",
    "merged_df.album_uri_x.fillna(merged_df.album_uri_y, inplace=True)\n",
    "merged_df.artist_uri_x.fillna(merged_df.artist_uri_y, inplace=True)\n",
    "merged_df = merged_df.rename(columns={'track_uri_x': 'track_uri', 'album_uri_x': 'album_uri', 'artist_uri_x': 'artist_uri'})\n",
    "full_track_history = merged_df[full_track_history.columns]"
   ]
  },
  {
   "cell_type": "code",
   "execution_count": null,
   "id": "635fc94f-f287-43c9-be15-5e88d51ba246",
   "metadata": {},
   "outputs": [],
   "source": [
    "# Remove skipped tracks\n",
    "unique_skipped_tracks = full_track_history.loc[full_track_history['msPlayed'] < TRACK_SKIP_MS]['track_uri'].dropna().unique()\n",
    "short_track_uris = set()\n",
    "curr_batch = []\n",
    "for track in unique_skipped_tracks:\n",
    "    curr_batch.append(track)\n",
    "    if len(curr_batch) == 10:\n",
    "        tracks = spotify_client.tracks(curr_batch)\n",
    "        for t in tracks['tracks']:\n",
    "            if t['duration_ms'] < TRACK_SKIP_MS:\n",
    "                short_track_uris.add(t['uri'])\n",
    "        curr_batch = []\n",
    "if len(curr_batch) > 0:\n",
    "    tracks = spotify_client.tracks(curr_batch)\n",
    "    for t in tracks['tracks']:\n",
    "        if t['duration_ms'] < TRACK_SKIP_MS:\n",
    "            short_track_uris.add(t['uri'])\n",
    "    curr_batch = []\n",
    "pkl.dump(short_track_uris, open('short_track_uris.pkl', 'wb'))\n",
    "short_track_uris"
   ]
  },
  {
   "cell_type": "code",
   "execution_count": null,
   "id": "39385061-a0d9-4b4b-8393-59e1e2277b64",
   "metadata": {},
   "outputs": [],
   "source": [
    "track_history_no_skip = full_track_history[(full_track_history.track_uri.isin(short_track_uris)) | (full_track_history['msPlayed'] > TRACK_SKIP_MS)]\n",
    "pkl.dump(track_history_no_skip, open('track_history_no_skip_df.pkl', 'wb'))\n",
    "track_history_no_skip"
   ]
  },
  {
   "cell_type": "code",
   "execution_count": null,
   "id": "6f1467b9-9473-4011-a2f2-58503099927b",
   "metadata": {},
   "outputs": [],
   "source": [
    "track_history_no_skip = pkl.load(open('track_history_no_skip_df.pkl', 'rb'))\n",
    "track_history_no_skip"
   ]
  },
  {
   "cell_type": "code",
   "execution_count": null,
   "id": "969e26e7-89dd-4eae-88cf-c56e7b6ebb42",
   "metadata": {},
   "outputs": [],
   "source": [
    "# Most played artists measured by ms played\n",
    "most_played_artists_df = track_history_no_skip[['artistName', 'msPlayed']].groupby(['artistName']).sum().sort_values('msPlayed', ascending=False)\n",
    "if UPLOAD_TO_DATAPANE:\n",
    "    table = dp.Table(most_played_artists_df)\n",
    "    report = dp.Report(table)\n",
    "    report.upload(name='Most Played Artists')"
   ]
  },
  {
   "cell_type": "code",
   "execution_count": null,
   "id": "be0109f9-4a5a-45a7-a916-e8ca1fe523bc",
   "metadata": {},
   "outputs": [],
   "source": [
    "# Most played artists measured by number of plays\n",
    "track_history_no_skip[['artistName', 'trackName']].groupby(['artistName']).count().sort_values('trackName', ascending=False)"
   ]
  },
  {
   "cell_type": "markdown",
   "id": "75a2e4fd-25a8-42d1-9e44-4c80455aa250",
   "metadata": {},
   "source": [
    "Quite similar, but Rainbow surpasses Porcupine Tree and Mastodon, probably due to shorter average track length."
   ]
  },
  {
   "cell_type": "code",
   "execution_count": null,
   "id": "488e8c0f-9b06-4aa2-aaed-6894058dc51a",
   "metadata": {},
   "outputs": [],
   "source": [
    "# Most played tracks measured by ms\n",
    "most_played_tracks_df = track_history_no_skip[['artistName', 'trackName', 'msPlayed']].groupby(['artistName', 'trackName']).sum('msPlayed').sort_values('msPlayed', ascending=False)\n",
    "if UPLOAD_TO_DATAPANE:\n",
    "    table = dp.Table(most_played_tracks_df)\n",
    "    report = dp.Report(table)\n",
    "    report.upload(name='Most Played Tracks')\n",
    "most_played_tracks_df"
   ]
  },
  {
   "cell_type": "code",
   "execution_count": null,
   "id": "9884e9d9-c48d-4250-b826-e95dddfb0fe1",
   "metadata": {},
   "outputs": [],
   "source": [
    "# Most played tracks measured by number of plays\n",
    "track_history_no_skip[['trackName', 'artistName', 'msPlayed']].groupby(['trackName', 'artistName']).count().rename(columns={'msPlayed': 'count'}).sort_values('count', ascending=False)"
   ]
  },
  {
   "cell_type": "code",
   "execution_count": null,
   "id": "954a6e9c-130b-4e55-ac6a-49d7f9dba4b6",
   "metadata": {},
   "outputs": [],
   "source": [
    "# Most skipped tracks\n",
    "skipped_tracks = full_track_history.loc[(~full_track_history.track_uri.isin(short_track_uris)) & (full_track_history['msPlayed'] < TRACK_SKIP_MS)]\n",
    "skip_counts = pd.DataFrame(skipped_tracks.groupby(['trackName', 'artistName'])['msPlayed'].count()).rename(columns={'msPlayed': 'skips'})\n",
    "total_num_plays = full_track_history[['artistName', 'trackName', 'msPlayed']].groupby(['trackName', 'artistName']).count().sort_values('msPlayed', ascending=False)\n",
    "skip_and_play_counts = skip_counts.merge(total_num_plays, left_on=['artistName','trackName'],right_on=['artistName','trackName']).rename(columns={'msPlayed': 'plays'})\n",
    "skip_and_play_counts['skipRate'] = skip_and_play_counts['skips']/skip_and_play_counts['plays']\n",
    "skip_and_play_counts = skip_and_play_counts.loc[skip_and_play_counts['plays'] > 3].sort_values(['skipRate', 'plays'], ascending=False)\n",
    "if UPLOAD_TO_DATAPANE:\n",
    "    table = dp.Table(skip_and_play_counts)\n",
    "    report = dp.Report(table)\n",
    "    report.upload(name='Most Skipped Tracks')\n",
    "skip_and_play_counts"
   ]
  },
  {
   "cell_type": "code",
   "execution_count": null,
   "id": "9b8b4550-1fde-4bad-a2df-d267e2cab1b9",
   "metadata": {},
   "outputs": [],
   "source": [
    "# Most skipped artists\n",
    "skipped_tracks = full_track_history.loc[(~full_track_history.track_uri.isin(short_track_uris)) & (full_track_history['msPlayed'] < TRACK_SKIP_MS)]\n",
    "skip_counts = pd.DataFrame(skipped_tracks.groupby(['artistName'])['msPlayed'].count()).rename(columns={'msPlayed': 'skips'})\n",
    "total_num_plays = full_track_history[['artistName', 'msPlayed']].groupby(['artistName']).count().sort_values('msPlayed', ascending=False)\n",
    "skip_and_play_counts = skip_counts.merge(total_num_plays, left_on=['artistName'],right_on=['artistName']).rename(columns={'msPlayed': 'plays'})\n",
    "skip_and_play_counts['skipRate'] = skip_and_play_counts['skips']/skip_and_play_counts['plays']\n",
    "skip_and_play_counts = skip_and_play_counts.loc[skip_and_play_counts['plays'] > 3].sort_values(['skipRate', 'plays'], ascending=False)\n",
    "if UPLOAD_TO_DATAPANE:\n",
    "    table = dp.Table(skip_and_play_counts)\n",
    "    report = dp.Report(table)\n",
    "    report.upload(name='Most Skipped Artists')\n",
    "skip_and_play_counts"
   ]
  },
  {
   "cell_type": "markdown",
   "id": "d7467004-9d14-4965-97fa-a573d002b8d3",
   "metadata": {},
   "source": [
    "# Days-of-week"
   ]
  },
  {
   "cell_type": "code",
   "execution_count": null,
   "id": "0d75bfd0-ec9c-464a-b4c6-53f47484c140",
   "metadata": {},
   "outputs": [],
   "source": [
    "import plotly.express as px"
   ]
  },
  {
   "cell_type": "code",
   "execution_count": null,
   "id": "345a70b6-c5e8-418c-958a-b789847692ef",
   "metadata": {},
   "outputs": [],
   "source": [
    "# Mean ms played per day (where at least one track was played)\n",
    "mean_ms_played_per_day = track_history_no_skip.groupby(track_history_no_skip['endTime'].dt.date).sum('msPlayed')['msPlayed'].sum() / len(track_history_no_skip.groupby(track_history_no_skip['endTime'].dt.date))\n",
    "mean_ms_played_per_day"
   ]
  },
  {
   "cell_type": "code",
   "execution_count": null,
   "id": "2384f81a-964a-45ee-bc7b-a8ec063a4aad",
   "metadata": {},
   "outputs": [],
   "source": [
    "# Mean ms played per day (where at least one track was played)\n",
    "track_history_no_skip['msPlayed'].sum()"
   ]
  },
  {
   "cell_type": "code",
   "execution_count": null,
   "id": "e33874cb-6148-4bab-98b1-7cedbf90dde1",
   "metadata": {},
   "outputs": [],
   "source": [
    "# Weekday\n",
    "track_play_hour_weekday = track_history_no_skip.groupby([track_history_no_skip['endTime'].dt.weekday, track_history_no_skip['endTime'].dt.hour]).sum('msPlayed')['msPlayed']\n",
    "\n",
    "# Create time matrix\n",
    "week_time_matrix = np.zeros((24,7))\n",
    "for weekday in range(0, 7):\n",
    "    for h in range(0,24):\n",
    "        if (weekday, h) in track_play_hour_weekday:\n",
    "            week_time_matrix[h, weekday] = track_play_hour_weekday[weekday, h]\n",
    "\n",
    "fig = px.imshow(week_time_matrix, origin='lower', template='plotly_dark', color_continuous_scale=['#11272e', '#1cc8ff'],\n",
    "                labels=dict(x=\"Day of Week\", y=\"Hour of Day\", color=\"Play time\"),\n",
    "                x=['Monday', 'Tuesday', 'Wednesday', 'Thursday', 'Friday', 'Saturday', 'Sunday'],\n",
    "                y=np.arange(0,24)\n",
    "               )\n",
    "fig.write_html('plot.html')\n",
    "if UPLOAD_TO_DATAPANE:\n",
    "    fig.update(layout_coloraxis_showscale=False) \n",
    "    report = dp.Report(dp.Plot(fig)) #Create a report\n",
    "    report.upload(name='Streaming Hour/Weekday Distribution')"
   ]
  },
  {
   "cell_type": "code",
   "execution_count": null,
   "id": "de3eace4-19d3-4a92-94a2-8c8578ccfeec",
   "metadata": {},
   "outputs": [],
   "source": [
    "# Hour of Day\n",
    "track_play_hour = track_history_no_skip.groupby([track_history_no_skip['endTime'].dt.hour]).sum('msPlayed')['msPlayed']\n",
    "\n",
    "# Create time matrix\n",
    "hour_matrix = np.zeros((24,1))\n",
    "for h in range(0,24):\n",
    "    if h in track_play_hour:\n",
    "        hour_matrix[h, 0] = track_play_hour[h]\n",
    "\n",
    "fig = px.imshow(hour_matrix, origin='lower', template='plotly_dark', color_continuous_scale=['#11272e', '#1cc8ff'],\n",
    "                labels=dict(y=\"Hour of Day\", color=\"Play time\"),\n",
    "                y=np.arange(0,24)\n",
    "               )\n",
    "fig.write_html('plot.html')"
   ]
  },
  {
   "cell_type": "code",
   "execution_count": null,
   "id": "90865215-8090-4009-b0fb-5fc06dc3eb05",
   "metadata": {},
   "outputs": [],
   "source": [
    "# Day of Month\n",
    "track_play_hour_monthday = track_history_no_skip.groupby([track_history_no_skip['endTime'].dt.day, track_history_no_skip['endTime'].dt.hour]).sum('msPlayed')['msPlayed']\n",
    "\n",
    "# Create time matrix\n",
    "monthday_time_matrix = np.zeros((24,31))\n",
    "for day in range(0, 31):\n",
    "    for h in range(0,24):\n",
    "        if (day+1, h) in track_play_hour_monthday:\n",
    "            monthday_time_matrix[h, day] = track_play_hour_monthday[day+1, h]\n",
    "\n",
    "\n",
    "fig = px.imshow(monthday_time_matrix, origin='lower', template='plotly_dark', color_continuous_scale=['#11272e', '#1cc8ff'],\n",
    "                labels=dict(x=\"Day of Month\", y=\"Hour of Day\", color=\"Play time\"),\n",
    "                x=np.arange(1,32),\n",
    "                y=np.arange(0,24)\n",
    "               )\n",
    "fig.write_html('plot.html')"
   ]
  },
  {
   "cell_type": "code",
   "execution_count": null,
   "id": "80dca0b0-c5aa-4b6a-b2ba-0c26fbe1bf91",
   "metadata": {},
   "outputs": [],
   "source": [
    "# Month\n",
    "track_play_hour_month = track_history_no_skip.groupby([track_history_no_skip['endTime'].dt.month, track_history_no_skip['endTime'].dt.hour]).sum('msPlayed')['msPlayed']\n",
    "\n",
    "# Create time matrix\n",
    "month_time_matrix = np.zeros((24,12))\n",
    "for month in range(0, 12):\n",
    "    for h in range(0,24):\n",
    "        if (month+1, h) in track_play_hour_month:\n",
    "            month_time_matrix[h, month] = track_play_hour_month[month+1, h]\n",
    "\n",
    "\n",
    "fig = px.imshow(month_time_matrix, origin='lower', template='plotly_dark', color_continuous_scale=['#11272e', '#1cc8ff'],\n",
    "                labels=dict(x=\"Month\", y=\"Hour of Day\", color=\"Play time\"),\n",
    "                x=np.arange(0,12),\n",
    "                y=np.arange(0,24)\n",
    "               )\n",
    "fig.write_html('plot.html')"
   ]
  },
  {
   "cell_type": "code",
   "execution_count": null,
   "id": "6f0315ad-88df-45ba-8fd3-ef05ea899c82",
   "metadata": {},
   "outputs": [],
   "source": [
    "# Day of Month, per month\n",
    "track_play_day_hour = track_history_no_skip.groupby([track_history_no_skip['endTime'].dt.month, track_history_no_skip['endTime'].dt.day]).sum('msPlayed')['msPlayed']\n",
    "\n",
    "# Create time matrix\n",
    "month_day_matrix = np.zeros((31,12))\n",
    "for month in range(0, 12):\n",
    "    for day in range(0,31):\n",
    "        if (month+1, day+1) in track_play_day_hour:\n",
    "            month_day_matrix[day, month] = track_play_day_hour[month+1, day+1]\n",
    "\n",
    "\n",
    "fig = px.imshow(month_day_matrix, origin='lower', template='plotly_dark', color_continuous_scale=['#11272e', '#1cc8ff'],\n",
    "                labels=dict(x=\"Month\", y=\"Day of Month\", color=\"Play time\"),\n",
    "                x=np.arange(0,12),\n",
    "                y=np.arange(0,31)\n",
    "               )\n",
    "fig.write_html('plot.html')"
   ]
  },
  {
   "cell_type": "code",
   "execution_count": null,
   "id": "a75bdf68-68be-45ee-b8d0-9f3e0310d3a3",
   "metadata": {},
   "outputs": [],
   "source": [
    "# Hour of day, each day\n",
    "track_play_date_hour = track_history_no_skip.groupby([track_history_no_skip['endTime'].dt.dayofyear, track_history_no_skip['endTime'].dt.hour]).sum('msPlayed')['msPlayed']\n",
    "\n",
    "# Create time matrix\n",
    "hour_day_matrix = np.zeros((24,365))\n",
    "for day in range(0, 365):\n",
    "    for hour in range(0,24):\n",
    "        if (day+1, hour) in track_play_date_hour:\n",
    "            hour_day_matrix[hour, day] = track_play_date_hour[day+1, hour]\n",
    "\n",
    "\n",
    "fig = px.imshow(hour_day_matrix, origin='lower', template='plotly_dark', color_continuous_scale=['#11272e', '#1cc8ff'],\n",
    "                labels=dict(x=\"Day of Year\", y=\"Hour of Day\", color=\"Play time\"),\n",
    "                x=np.arange(0,365),\n",
    "                y=np.arange(0,24)\n",
    "               )\n",
    "\n",
    "fig.write_html('plot.html')"
   ]
  },
  {
   "cell_type": "code",
   "execution_count": null,
   "id": "acd1f574-82cd-46c4-b7e6-01b864ec2fb5",
   "metadata": {},
   "outputs": [],
   "source": [
    "# Day of Year, Github style\n",
    "track_play_dayofyear = track_history_no_skip.groupby([track_history_no_skip['endTime'].dt.dayofyear]).sum('msPlayed')['msPlayed']\n",
    "\n",
    "# Create time matrix\n",
    "dayofyear_matrix = np.zeros((7,53))\n",
    "for week in range(0, 53):\n",
    "    for day in range(0,7):\n",
    "        day_of_year = week * 7 + day\n",
    "        if day_of_year+1 in track_play_dayofyear:\n",
    "            dayofyear_matrix[day, week] = track_play_dayofyear[day_of_year+1] / (1000.0 * 60.0 * 60.0)\n",
    "\n",
    "\n",
    "fig = px.imshow(dayofyear_matrix, origin='lower', template='plotly_dark', color_continuous_scale=['#11272e', '#1cc8ff'],\n",
    "                labels=dict(x=\"Week\", y=\"Weekday\", color=\"Play time (h)\"),\n",
    "                x=np.arange(0,53),\n",
    "                y=np.arange(0,7)\n",
    "               )\n",
    "fig.write_html('plot.html')\n",
    "if UPLOAD_TO_DATAPANE:\n",
    "    fig.update(layout_coloraxis_showscale=False) \n",
    "    report = dp.Report(dp.Plot(fig)) #Create a report\n",
    "    report.upload(name='test_plot')"
   ]
  },
  {
   "cell_type": "markdown",
   "id": "edd87b4f-7765-462d-93fd-0f0134cf38cb",
   "metadata": {},
   "source": [
    "# Vector Plots"
   ]
  },
  {
   "cell_type": "code",
   "execution_count": null,
   "id": "d2b30b77-afe3-40f8-8656-176b0e9227bb",
   "metadata": {},
   "outputs": [],
   "source": [
    "from gensim.models import Word2Vec\n",
    "from sklearn.manifold import TSNE\n",
    "from sklearn.decomposition import PCA\n",
    "from sklearn.cluster import OPTICS, MeanShift\n",
    "from sklearn.neighbors import NearestNeighbors\n",
    "import numpy as np\n",
    "import plotly.express as px"
   ]
  },
  {
   "cell_type": "code",
   "execution_count": null,
   "id": "a1277e8f-e27c-4a56-aea7-42c4aa6951fd",
   "metadata": {},
   "outputs": [],
   "source": [
    "# Load model\n",
    "model = Word2Vec.load('../vectormodels/track2vec.model')\n",
    "X = model.wv.get_normed_vectors()"
   ]
  },
  {
   "cell_type": "code",
   "execution_count": null,
   "id": "f72a5289-f2aa-46c4-aeda-a3d024960584",
   "metadata": {},
   "outputs": [],
   "source": [
    "# Load labels\n",
    "labels = []\n",
    "for v in model.wv.index_to_key:\n",
    "    t = track_dict[v]\n",
    "    labels.append(t['track_name'] + \" - \" + t['artist_name'])"
   ]
  },
  {
   "cell_type": "code",
   "execution_count": null,
   "id": "85bc6c9f-8897-4282-8d2b-50c47c8cbe2a",
   "metadata": {},
   "outputs": [],
   "source": [
    "import openTSNE"
   ]
  },
  {
   "cell_type": "code",
   "execution_count": null,
   "id": "160a5c48-b78f-4cc1-8fd7-b96ad0f3914f",
   "metadata": {},
   "outputs": [],
   "source": [
    "X_sample_indices = np.random.permutation(list(range(X_pca.shape[0])))\n",
    "X_sample_indices_reverse = np.argsort(X_sample_indices)\n",
    "X_sample, X_rest = X_pca[X_sample_indices[:100000]], X_pca[X_sample_indices[100000:]]"
   ]
  },
  {
   "cell_type": "code",
   "execution_count": null,
   "id": "3f2da4cb-9cf0-44bf-9e2d-1beff412996b",
   "metadata": {
    "tags": []
   },
   "outputs": [],
   "source": [
    "X_pca_affinities = openTSNE.affinity.PerplexityBasedNN(\n",
    "    X_pca,\n",
    "    perplexity=50,\n",
    "    n_jobs=32,\n",
    "    random_state=0,\n",
    ")"
   ]
  },
  {
   "cell_type": "code",
   "execution_count": null,
   "id": "6e090b1b-53da-4aac-b155-d8f5c218703f",
   "metadata": {},
   "outputs": [],
   "source": [
    "X_sample_affinities = openTSNE.affinity.PerplexityBasedNN(\n",
    "    X_sample,\n",
    "    perplexity=500,\n",
    "    n_jobs=32,\n",
    "    random_state=0,\n",
    "    verbose=True,\n",
    ")"
   ]
  },
  {
   "cell_type": "code",
   "execution_count": null,
   "id": "41b29482-3e72-437d-b910-c1d0afba1a1d",
   "metadata": {},
   "outputs": [],
   "source": [
    "X_sample_init = openTSNE.initialization.pca(X_sample, random_state=42)\n",
    "X_sample_embedding = openTSNE.TSNE(n_jobs=32, verbose=True).fit(affinities=X_sample_affinities, initialization=X_sample_init)"
   ]
  },
  {
   "cell_type": "code",
   "execution_count": null,
   "id": "f0da2474-cc5e-411f-8943-aac20812df46",
   "metadata": {},
   "outputs": [],
   "source": [
    "# Add remaining embeddings\n",
    "X_rest_init = X_sample_embedding.prepare_partial(X_rest, k=1, perplexity=1/3)\n",
    "X_init_full = np.vstack((X_sample_embedding, X_rest_init))[X_sample_indices_reverse]"
   ]
  },
  {
   "cell_type": "code",
   "execution_count": null,
   "id": "fafeb8e6-3fa5-4ac2-8715-829c66ba40e3",
   "metadata": {},
   "outputs": [],
   "source": [
    "X_init_full = X_init_full / (np.std(X_init_full[:, 0]) * 10000)\n",
    "np.std(X_init_full, axis=0)"
   ]
  },
  {
   "cell_type": "code",
   "execution_count": null,
   "id": "1aafef06-46d7-44ff-a9a5-a76c74f4f689",
   "metadata": {},
   "outputs": [],
   "source": [
    "X_tsne_embedding = openTSNE.TSNEEmbedding(\n",
    "    X_init_full,\n",
    "    X_pca_affinities,\n",
    "    n_jobs=32,\n",
    "    verbose=True,\n",
    "    random_state=42,\n",
    ")\n",
    "X_tsne_embedding = X_tsne_embedding.optimize(n_iter=500, exaggeration=12, momentum=0.5)\n",
    "X_tsne_embedding = X_tsne_embedding.optimize(n_iter=750, exaggeration=4, momentum=0.8)"
   ]
  },
  {
   "cell_type": "code",
   "execution_count": null,
   "id": "b1e6f6c8-af02-4dcd-b7cd-bf8f96042053",
   "metadata": {},
   "outputs": [],
   "source": [
    "#pkl.dump(X_tsne_embedding,open('X_tsne_embedding.pkl', 'wb'))"
   ]
  },
  {
   "cell_type": "code",
   "execution_count": null,
   "id": "221c6107-be8a-40e0-a368-9c5b85d5c250",
   "metadata": {},
   "outputs": [],
   "source": [
    "X_tsne_embedding = pkl.load(open('X_tsne_embedding.pkl', 'rb'))"
   ]
  },
  {
   "cell_type": "code",
   "execution_count": null,
   "id": "c8fa8188-283e-47a7-9fa4-5503835e7b8c",
   "metadata": {},
   "outputs": [],
   "source": [
    "X_tsne_embedding_df = pd.DataFrame({'x': X_tsne_embedding[:, 0], 'y': X_tsne_embedding[:, 1]})\n",
    "X_tsne_embedding_df['Title'] = labels"
   ]
  },
  {
   "cell_type": "code",
   "execution_count": null,
   "id": "ddea973a-2ad3-424b-99ca-ccad67212038",
   "metadata": {},
   "outputs": [],
   "source": [
    "fig = px.scatter(X_tsne_embedding_df, x='x', y='y', hover_data=['Title'])\n",
    "fig.update_layout(template='seaborn')\n",
    "fig.update_traces(marker=dict(size=4, opacity=0.2),\n",
    "                  selector=dict(mode='markers'))\n",
    "fig.write_html('plot.html')"
   ]
  },
  {
   "cell_type": "code",
   "execution_count": null,
   "id": "a9b5540d-6936-44da-a7ad-b935d2d1f976",
   "metadata": {},
   "outputs": [],
   "source": []
  },
  {
   "cell_type": "code",
   "execution_count": null,
   "id": "3aeb25c8-23a8-4228-8406-b1e7d273efdb",
   "metadata": {},
   "outputs": [],
   "source": [
    "from annoy import AnnoyIndex"
   ]
  },
  {
   "cell_type": "code",
   "execution_count": null,
   "id": "40949795-3edc-4024-8fc8-8b1f50ebfd25",
   "metadata": {},
   "outputs": [],
   "source": [
    "from annoy import AnnoyIndex\n",
    "nn_index = AnnoyIndex(128, 'angular')\n",
    "for i in range(0, X.shape[0]):\n",
    "    nn_index.add_item(i, X[i])\n",
    "print(\"Building...\")\n",
    "nn_index.build(100)\n",
    "print(\"Saving\")\n",
    "nn_index.save('distances_.ann')"
   ]
  },
  {
   "cell_type": "code",
   "execution_count": null,
   "id": "f0ca942f-3c40-4517-95bd-83e48a1007f6",
   "metadata": {},
   "outputs": [],
   "source": [
    "nn_index = AnnoyIndex(128, 'angular')\n",
    "nn_index.load('distances_.ann') # super fast, will just mmap the file"
   ]
  },
  {
   "cell_type": "code",
   "execution_count": null,
   "id": "65320881-f788-4175-9e81-fe268e352f9c",
   "metadata": {},
   "outputs": [],
   "source": [
    "from sklearn.metrics.pairwise import euclidean_distances\n",
    "all_distances = []\n",
    "for idx in range(0, X.shape[0]):\n",
    "    neighbor_indices = nn_index.get_nns_by_item(idx, 10)\n",
    "    neighbor_points = X[neighbor_indices[1:]] # skip the first one, which should be itself\n",
    "    cur_distances = np.sum([euclidean_distances([X[idx]], [neighbor]) for neighbor in neighbor_points])\n",
    "    all_distances.append(cur_distances)\n",
    "all_distances = np.asarray(all_distances)\n",
    "all_distances -= all_distances.min()\n",
    "all_distances /= all_distances.max()"
   ]
  },
  {
   "cell_type": "code",
   "execution_count": null,
   "id": "a75c254c-9229-45d6-b342-c88f8c9562f2",
   "metadata": {},
   "outputs": [],
   "source": [
    "X_tsne_embedding_df['Dist'] = np.clip(all_distances, 0.1, 1.0)"
   ]
  },
  {
   "cell_type": "code",
   "execution_count": null,
   "id": "4764b4de-b083-4947-8eac-b35f2ab44880",
   "metadata": {},
   "outputs": [],
   "source": []
  },
  {
   "cell_type": "code",
   "execution_count": null,
   "id": "727c4c7e-bde0-4e36-9356-ea3f2244ba44",
   "metadata": {},
   "outputs": [],
   "source": [
    "fig = px.scatter(X_tsne_embedding_df, x='x', y='y', hover_data=[\n",
    "                 'Title'], color=\"Dist\", template='plotly_dark')\n",
    "#fig.update_layout(template='seaborn')\n",
    "fig.update_traces(marker=dict(size=4, opacity=0.5),\n",
    "                  selector=dict(mode='markers'))\n",
    "fig.write_html('plot.html')"
   ]
  },
  {
   "cell_type": "code",
   "execution_count": null,
   "id": "24a38927-fffe-4b43-a3c7-e34f7a0cd8d8",
   "metadata": {},
   "outputs": [],
   "source": []
  },
  {
   "cell_type": "markdown",
   "id": "35581136-9216-4991-898c-e54df4cfb406",
   "metadata": {},
   "source": [
    "## Play history"
   ]
  },
  {
   "cell_type": "code",
   "execution_count": null,
   "id": "f2079267-32ee-4108-a4a3-800a4d245f87",
   "metadata": {},
   "outputs": [],
   "source": [
    "# Add vector index to play history\n",
    "track_history_indices = track_history_no_skip.apply(lambda row: model.wv.key_to_index[row['track_uri']] if row['track_uri'] in model.wv.key_to_index else -1, axis=1)\n",
    "track_history_no_skip['track2vec_idx'] = track_history_indices"
   ]
  },
  {
   "cell_type": "code",
   "execution_count": null,
   "id": "eaa633f5-fcdf-46ab-b665-49d44e26a0da",
   "metadata": {},
   "outputs": [],
   "source": [
    "# Scale msPlayed\n",
    "track_history_ms_played = track_history_no_skip.groupby(['track_uri']).sum('msPlayed').sort_values('msPlayed', ascending=False)\n",
    "df_norm = (track_history_ms_played-track_history_ms_played.min())/(track_history_ms_played.max()-track_history_ms_played.min())\n",
    "df_norm = df_norm.rename(columns={'msPlayed': 'msPlayed_scaled'})\n",
    "track_history_no_skip = track_history_no_skip.merge(df_norm['msPlayed_scaled'], left_on='track_uri', right_on='track_uri', how='left')"
   ]
  },
  {
   "cell_type": "code",
   "execution_count": null,
   "id": "e9dca797-f1d4-4a4b-b005-3cbf8559b375",
   "metadata": {},
   "outputs": [],
   "source": [
    "X_tsne_embedding_df.loc[track_history_no_skip[(track_history_no_skip['track2vec_idx'] != -1) & (track_history_no_skip['track2vec_idx'] < 100000)]['track2vec_idx'],'played'] = True\n",
    "X_tsne_embedding_df.loc[X_tsne_embedding_df['played'] != True, 'played'] = False\n",
    "\n",
    "X_tsne_embedding_df.loc[track_history_no_skip[(track_history_no_skip['track2vec_idx'] != -1) & (track_history_no_skip['track2vec_idx'] < 100000)]['track2vec_idx'],'msPlayed_scaled'] = track_history_no_skip[(track_history_no_skip['track2vec_idx'] != -1) & (track_history_no_skip['track2vec_idx'] < 100000)]['msPlayed_scaled']\n",
    "X_tsne_embedding_df.loc[X_tsne_embedding_df['played'] != True, 'msPlayed_scaled'] = np.NAN\n",
    "\n",
    "fig = px.scatter(X_tsne_embedding_df, x='x', y='y', hover_data=[\n",
    "                 'Title'], color='played', opacity=0.2, template='plotly_dark', color_continuous_scale=['#1688ab', '#58d400'])\n",
    "#fig = px.scatter(tsne_df, x='x', y='y', hover_data=[\n",
    "#                 'Title'], color='played', opacity=0.3, color_discrete_sequence=['#1688ab', '#58d400'], template='plotly_dark')\n",
    "\n",
    "#fig.add_trace(px.scatter(tsne_df[tsne_df['played'] != True], x=\"x\", y=\"y\", opacity=0.8))\n",
    "\n",
    "#fig.update_layout(template='plotly_dark')\n",
    "#fig.update_traces(marker=dict(size=4, opacity=0.3, color='#1688ab'),\n",
    "#                  selector=dict(mode='markers'))\n",
    "\n",
    "\n",
    "fig.write_html('plot.html')\n",
    "#fig.write_image(\"images/fig1.png\")"
   ]
  },
  {
   "cell_type": "code",
   "execution_count": null,
   "id": "dfc86fef-83b3-40a3-8c6d-b5d5cf6196e3",
   "metadata": {},
   "outputs": [],
   "source": []
  },
  {
   "cell_type": "code",
   "execution_count": null,
   "id": "23116578-ff34-41cf-95b3-19b5479a03ce",
   "metadata": {},
   "outputs": [],
   "source": []
  },
  {
   "cell_type": "code",
   "execution_count": null,
   "id": "cc27c159-528e-4c23-adae-a87906506cf6",
   "metadata": {},
   "outputs": [],
   "source": []
  },
  {
   "cell_type": "code",
   "execution_count": null,
   "id": "f2ccece0-b52b-4419-898c-7631a9d17395",
   "metadata": {},
   "outputs": [],
   "source": []
  },
  {
   "cell_type": "code",
   "execution_count": null,
   "id": "8654d028-cb30-4984-a156-e09edc22a0eb",
   "metadata": {},
   "outputs": [],
   "source": []
  },
  {
   "cell_type": "code",
   "execution_count": null,
   "id": "c2559b2e-2568-40f5-a55d-9864fccf792e",
   "metadata": {},
   "outputs": [],
   "source": []
  },
  {
   "cell_type": "markdown",
   "id": "3e0c7282-2b24-4429-bfba-f93019823a3a",
   "metadata": {},
   "source": [
    "# Artist2Vec"
   ]
  },
  {
   "cell_type": "code",
   "execution_count": null,
   "id": "3ca3a796-bb42-4d6d-be13-1793a3672826",
   "metadata": {},
   "outputs": [],
   "source": [
    "# Load model\n",
    "artist_model = Word2Vec.load('../vectormodels/artist2vec.model')\n",
    "artist_X = artist_model.wv.get_normed_vectors()"
   ]
  },
  {
   "cell_type": "code",
   "execution_count": null,
   "id": "d63b0b4d-4d78-4de0-8bbd-2e39072c0402",
   "metadata": {},
   "outputs": [],
   "source": [
    "# Load labels\n",
    "artist_dict = pickle.load(open('../vectormodels/artist_meta.pkl', 'rb'))\n",
    "\n",
    "# Top genres\n",
    "from collections import defaultdict\n",
    "top_genres_dict = defaultdict(lambda: 0)\n",
    "for k in artist_dict.keys():\n",
    "    artist = artist_dict[k]\n",
    "    for genre in artist['genres']:\n",
    "        top_genres_dict[genre] += 1\n",
    "        \n",
    "#print(list(sorted([(cnt, genre) for genre, cnt in top_genres_dict.items()], reverse=True)))\n",
    "# Select topN genres\n",
    "top_genres = set([x[1] for x in sorted([(cnt, genre) for genre, cnt in top_genres_dict.items()], reverse=True)[:50]])\n",
    "\n",
    "artist_labels = []\n",
    "artist_genres = []\n",
    "artist_played = []\n",
    "for v in artist_model.wv.index_to_key:\n",
    "    t = artist_dict[v]\n",
    "    artist_labels.append(t['name'])\n",
    "    if v in track_history_no_skip['artist_uri'].values:\n",
    "        artist_played.append(True)\n",
    "    else:\n",
    "        artist_played.append(False)\n",
    "    if len(t['genres']) > 0:\n",
    "        for genre in t['genres']:\n",
    "            if genre in top_genres:\n",
    "                artist_genres.append(genre)\n",
    "                break\n",
    "        else:\n",
    "            artist_genres.append('Unknown')\n",
    "    else:\n",
    "        artist_genres.append('Unknown')\n"
   ]
  },
  {
   "cell_type": "code",
   "execution_count": null,
   "id": "1a6c4fd1-b3e0-43c7-94a1-0bc66644afab",
   "metadata": {},
   "outputs": [],
   "source": [
    "artist_pca = PCA(n_components=50)\n",
    "artist_X_pca = artist_pca.fit_transform(artist_X)"
   ]
  },
  {
   "cell_type": "code",
   "execution_count": null,
   "id": "804a3c67-13cb-4888-82be-777d59b81d02",
   "metadata": {},
   "outputs": [],
   "source": [
    "artist_X_sample_indices = np.random.permutation(list(range(artist_X_pca.shape[0])))\n",
    "artist_X_sample_indices_reverse = np.argsort(artist_X_sample_indices)\n",
    "artist_X_sample, artist_X_rest = artist_X_pca[artist_X_sample_indices[:100000]], artist_X_pca[artist_X_sample_indices[100000:]]"
   ]
  },
  {
   "cell_type": "code",
   "execution_count": null,
   "id": "a18a725e-b0e2-4596-a4cb-a301a08e2371",
   "metadata": {},
   "outputs": [],
   "source": [
    "artist_X_pca_affinities = openTSNE.affinity.PerplexityBasedNN(\n",
    "    artist_X_pca,\n",
    "    perplexity=50,\n",
    "    n_jobs=32,\n",
    "    random_state=0,\n",
    ")\n",
    "\n",
    "artist_X_sample_affinities = openTSNE.affinity.PerplexityBasedNN(\n",
    "    artist_X_sample,\n",
    "    perplexity=500,\n",
    "    n_jobs=32,\n",
    "    random_state=0,\n",
    "    verbose=True,\n",
    ")"
   ]
  },
  {
   "cell_type": "code",
   "execution_count": null,
   "id": "ed7411ad-771d-4d79-8d6d-a1ac4e50f068",
   "metadata": {},
   "outputs": [],
   "source": [
    "artist_X_sample_init = openTSNE.initialization.pca(artist_X_sample, random_state=42)\n",
    "artist_X_sample_embedding = openTSNE.TSNE(n_jobs=32, verbose=True).fit(affinities=artist_X_sample_affinities, initialization=artist_X_sample_init)"
   ]
  },
  {
   "cell_type": "code",
   "execution_count": null,
   "id": "456ab4f9-6823-4881-879e-9e60eba910d0",
   "metadata": {},
   "outputs": [],
   "source": [
    "# Add remaining embeddings\n",
    "artist_X_rest_init = artist_X_sample_embedding.prepare_partial(artist_X_rest, k=1, perplexity=1/3)\n",
    "artist_X_init_full = np.vstack((artist_X_sample_embedding, artist_X_rest_init))[artist_X_sample_indices_reverse]"
   ]
  },
  {
   "cell_type": "code",
   "execution_count": null,
   "id": "47a81df8-dbd5-4540-8163-d23494ecf187",
   "metadata": {},
   "outputs": [],
   "source": [
    "artist_X_init_full = artist_X_init_full / (np.std(artist_X_init_full[:, 0]) * 10000)\n",
    "np.std(artist_X_init_full, axis=0)"
   ]
  },
  {
   "cell_type": "code",
   "execution_count": null,
   "id": "f1d34fbd-8e54-4a80-9cce-914f8939826d",
   "metadata": {},
   "outputs": [],
   "source": [
    "artist_X_tsne_embedding = openTSNE.TSNEEmbedding(\n",
    "    artist_X_init_full,\n",
    "    artist_X_pca_affinities,\n",
    "    n_jobs=32,\n",
    "    verbose=True,\n",
    "    random_state=42,\n",
    ")\n",
    "artist_X_tsne_embedding = artist_X_tsne_embedding.optimize(n_iter=500, exaggeration=12, momentum=0.5)\n",
    "artist_X_tsne_embedding = artist_X_tsne_embedding.optimize(n_iter=750, exaggeration=4, momentum=0.8)\n",
    "\n",
    "pickle.dump(artist_X_tsne_embedding,open('artist_X_tsne_embedding.pkl', 'wb'))\n"
   ]
  },
  {
   "cell_type": "code",
   "execution_count": null,
   "id": "71238b65-3170-4e6d-bdd6-238aca08fa8a",
   "metadata": {},
   "outputs": [],
   "source": [
    "#artist_X_tsne_embedding = pickle.load(open('artist_X_tsne_embedding.pkl', 'rb'))"
   ]
  },
  {
   "cell_type": "code",
   "execution_count": null,
   "id": "b7030708-6cf7-4184-9871-7631f7f56413",
   "metadata": {},
   "outputs": [],
   "source": [
    "artist_X_tsne_embedding_df = pd.DataFrame({'x': artist_X_tsne_embedding[:, 0], 'y': artist_X_tsne_embedding[:, 1]})\n",
    "artist_X_tsne_embedding_df['Title'] = artist_labels\n",
    "artist_X_tsne_embedding_df['Genre'] = artist_genres\n",
    "artist_X_tsne_embedding_df['Played'] = artist_played"
   ]
  },
  {
   "cell_type": "code",
   "execution_count": null,
   "id": "8da32222-0f64-45bc-ac39-5d9529424476",
   "metadata": {},
   "outputs": [],
   "source": []
  },
  {
   "cell_type": "code",
   "execution_count": null,
   "id": "4f5c67f2-6b54-4b08-bb90-d1b70dbc247c",
   "metadata": {},
   "outputs": [],
   "source": [
    "from annoy import AnnoyIndex\n",
    "artist_nn_index = AnnoyIndex(128, 'angular')\n",
    "for i in range(0, artist_X.shape[0]):\n",
    "    artist_nn_index.add_item(i, artist_X[i])\n",
    "print(\"Building...\")\n",
    "artist_nn_index.build(100)\n",
    "print(\"Saving\")\n",
    "artist_nn_index.save('artist_distances.ann')"
   ]
  },
  {
   "cell_type": "code",
   "execution_count": null,
   "id": "097c730c-b78b-4164-b47c-239177847480",
   "metadata": {},
   "outputs": [],
   "source": [
    "artist_all_distances = []\n",
    "for idx in range(0, artist_X.shape[0]):\n",
    "    neighbor_indices = artist_nn_index.get_nns_by_item(idx, 10)\n",
    "    neighbor_points = artist_X[neighbor_indices[1:]] # skip the first one, which should be itself\n",
    "    cur_distances = np.sum([euclidean_distances([X[idx]], [neighbor]) for neighbor in neighbor_points])\n",
    "    artist_all_distances.append(cur_distances)\n",
    "artist_all_distances = np.asarray(artist_all_distances)\n",
    "artist_all_distances -= artist_all_distances.min()\n",
    "artist_all_distances /= artist_all_distances.max()"
   ]
  },
  {
   "cell_type": "code",
   "execution_count": null,
   "id": "9bad145d-a004-474d-b35c-da4ee2a90775",
   "metadata": {},
   "outputs": [],
   "source": [
    "artist_X_tsne_embedding_df['Dist'] = np.clip(artist_all_distances, 0.1, 1.0)"
   ]
  },
  {
   "cell_type": "code",
   "execution_count": null,
   "id": "114ebd5e-15c5-441f-b3d2-13bb508aef94",
   "metadata": {},
   "outputs": [],
   "source": [
    "fig = px.scatter(artist_X_tsne_embedding_df, x='x', y='y', hover_data=[\n",
    "                 'Title'], color=\"Dist\", template='plotly_dark')\n",
    "#fig.update_layout(template='seaborn')\n",
    "fig.update_traces(marker=dict(size=4, opacity=0.5),\n",
    "                  selector=dict(mode='markers'))\n",
    "fig.write_html('plot.html')"
   ]
  },
  {
   "cell_type": "code",
   "execution_count": null,
   "id": "847eec5c-91df-4e1f-8d70-3196192d76f0",
   "metadata": {},
   "outputs": [],
   "source": [
    "fig = px.scatter(artist_X_tsne_embedding_df, x='x', y='y', hover_data=[\n",
    "                 'Title', 'Genre'], color=\"Genre\", template='plotly_dark')\n",
    "#fig.update_layout(template='seaborn')\n",
    "fig.update_traces(marker=dict(size=4, opacity=0.5),\n",
    "                  selector=dict(mode='markers'))\n",
    "fig.write_html('plot.html')"
   ]
  },
  {
   "cell_type": "code",
   "execution_count": null,
   "id": "af29d0f7-7e50-4b59-914a-b048f66c3f2b",
   "metadata": {},
   "outputs": [],
   "source": [
    "fig = px.scatter(artist_X_tsne_embedding_df, x='x', y='y', hover_data=[\n",
    "                 'Title', 'Genre'], color=\"Played\", template='plotly_dark')\n",
    "#fig.update_layout(template='seaborn')\n",
    "fig.update_traces(marker=dict(size=4, opacity=0.5),\n",
    "                  selector=dict(mode='markers'))\n",
    "fig.write_html('plot.html')"
   ]
  },
  {
   "cell_type": "code",
   "execution_count": null,
   "id": "5ed23dd4-9817-42d0-b7e8-68e0e3b5d288",
   "metadata": {},
   "outputs": [],
   "source": []
  },
  {
   "cell_type": "markdown",
   "id": "0635d1e2-c84e-48ab-bedd-a9c4ab916bf7",
   "metadata": {},
   "source": [
    "# Lyrics"
   ]
  },
  {
   "cell_type": "code",
   "execution_count": null,
   "id": "4e716d94-2ee6-41fe-8686-aea5e25a17a9",
   "metadata": {},
   "outputs": [],
   "source": [
    "import sqlite3\n",
    "import pandas as pd\n",
    "dbcon = sqlite3.connect('../lyrics/mxm_dataset.db')"
   ]
  },
  {
   "cell_type": "code",
   "execution_count": null,
   "id": "aeeece92-830d-4f42-9ba5-481374ae9655",
   "metadata": {},
   "outputs": [],
   "source": [
    "cursor = dbcon.cursor()\n",
    "cursor.execute(\"PRAGMA table_info(lyrics)\")\n",
    "print(cursor.fetchall())\n",
    "cursor.execute(\"select count(distinct track_id) from lyrics\")\n",
    "print(cursor.fetchall())"
   ]
  },
  {
   "cell_type": "code",
   "execution_count": null,
   "id": "defef96a-a8cf-42c1-8a3a-e94d02e336e0",
   "metadata": {},
   "outputs": [],
   "source": [
    "lyrics_meta = pd.read_csv(open('../lyrics/mxm_779k_matches.txt', 'rt'), sep='<SEP>')"
   ]
  },
  {
   "cell_type": "code",
   "execution_count": null,
   "id": "17bc6d6f-c89d-4257-97d5-204fc721fa65",
   "metadata": {},
   "outputs": [],
   "source": [
    "cursor = dbcon.cursor()\n",
    "cursor.execute(\"SELECT distinct track_id FROM lyrics\")\n",
    "tid_lyrics_in_db = pd.DataFrame(cursor.fetchall(), columns=['tid'])\n",
    "# Remove tracks without full lyrics in db\n",
    "lyrics_meta = pd.merge(tid_lyrics_in_db, lyrics_meta, how='left', left_on=['tid'], right_on=['tid'])"
   ]
  },
  {
   "cell_type": "code",
   "execution_count": null,
   "id": "aac3faae-10b4-431c-acf9-56aca8005cf8",
   "metadata": {},
   "outputs": [],
   "source": [
    "lyrics_meta = pd.merge(lyrics_meta, track_dict_pd, how='left', left_on=['artist', 'title'], right_on=['artist_name', 'track_name'])[['tid', 'track_uri', 'artist_uri', 'album_uri']]"
   ]
  },
  {
   "cell_type": "code",
   "execution_count": null,
   "id": "bb2fca22-0e17-42f8-8151-3cbc785d404d",
   "metadata": {},
   "outputs": [],
   "source": []
  },
  {
   "cell_type": "code",
   "execution_count": null,
   "id": "e9d5fa33-75d0-4b0e-8258-fd755f585292",
   "metadata": {},
   "outputs": [],
   "source": [
    "import requests\n",
    "\n",
    "API_KEY = getpass.getpass()\n",
    "\n",
    "tracks_without_lyrics = track_history_no_skip[~track_history_no_skip['track_uri'].isin(lyrics_meta['track_uri'])].drop_duplicates(['track_uri'])\n",
    "lyrics = []\n",
    "for idx, track in tracks_without_lyrics.iterrows():\n",
    "    api_params = dict(\n",
    "        q_track=track['trackName'],\n",
    "        q_artist=track['artistName'],\n",
    "        apikey=API_KEY\n",
    "    )\n",
    "    resp = requests.get(url=\"https://api.musixmatch.com/ws/1.1/matcher.lyrics.get\", params=api_params)\n",
    "    lyric_response = resp.json()\n",
    "    if lyric_response['message']['header']['status_code'] != 200:\n",
    "        continue\n",
    "    lyrics_text = lyric_response['message']['body']['lyrics']['lyrics_body']\n",
    "    lyrics_text,_,_ = lyrics_text.rpartition('******* This Lyrics is NOT for Commercial use *******')\n",
    "    lyrics.append((track['track_uri'], lyrics_text))\n",
    "    if idx % 100 == 0:\n",
    "        print(idx)"
   ]
  },
  {
   "cell_type": "code",
   "execution_count": null,
   "id": "71a2eb54-f5df-4b7f-b19b-78216d289610",
   "metadata": {},
   "outputs": [],
   "source": [
    "api_lyrics_df = pd.DataFrame(lyrics, columns=['track_uri', 'lyrics'])\n",
    "pkl.dump(api_lyrics_df, open('lyrics_from_api.pkl', 'wb'))"
   ]
  },
  {
   "cell_type": "code",
   "execution_count": null,
   "id": "94ba5a7d-2cfd-4529-a191-1c5310bc1f16",
   "metadata": {},
   "outputs": [],
   "source": [
    "# Lookup lyrics of listened tracks from db\n",
    "tracks_with_lyrics = track_history_no_skip[track_history_no_skip['track_uri'].isin(lyrics_meta['track_uri'])].drop_duplicates(['track_uri'])\n",
    "# Join track id\n",
    "tracks_with_lyrics = pd.merge(tracks_with_lyrics, lyrics_meta[['track_uri', 'tid']], how='left', left_on=['track_uri'], right_on=['track_uri']).drop_duplicates(['track_uri'])\n",
    "lyrics = []\n",
    "for idx, track in tracks_with_lyrics.iterrows():\n",
    "    cursor = dbcon.cursor()\n",
    "    cursor.execute(\"SELECT group_concat(word, ' ') FROM lyrics WHERE track_id = ? GROUP BY track_id\", [track['tid']])\n",
    "    lyrics_text = cursor.fetchall()[0][0]\n",
    "    lyrics.append((track['track_uri'], lyrics_text))\n",
    "db_lyrics_df = pd.DataFrame(lyrics, columns=['track_uri', 'lyrics'])"
   ]
  },
  {
   "cell_type": "code",
   "execution_count": null,
   "id": "a45e9328-9a33-45b8-9930-0df644abdbe7",
   "metadata": {},
   "outputs": [],
   "source": [
    "all_lyrics_df = db_lyrics_df.append(api_lyrics_df).replace('').dropna()\n",
    "all_lyrics_df"
   ]
  },
  {
   "cell_type": "code",
   "execution_count": null,
   "id": "ef90268e-970c-4d60-a773-53d96316209b",
   "metadata": {},
   "outputs": [],
   "source": [
    "from transformers import pipeline\n",
    "classifier = pipeline(\"text-classification\",model='bhadresh-savani/distilbert-base-uncased-emotion', return_all_scores=True)"
   ]
  },
  {
   "cell_type": "code",
   "execution_count": null,
   "id": "23cf5a2a-fb70-4990-bead-8d84e312a03f",
   "metadata": {},
   "outputs": [],
   "source": [
    "import pickle as pkl\n",
    "all_predictions = []\n",
    "batch = []\n",
    "for idx, row in all_lyrics_df.iterrows():\n",
    "    batch.append(row)\n",
    "    if len(batch) > 100:\n",
    "        # Trim to 512 tokens (400 to be sure)\n",
    "        try:\n",
    "            prediction = classifier([' '.join(b['lyrics'].split()[:250]) for b in batch])\n",
    "            for i in range(0, len(batch)):\n",
    "                all_predictions.append((batch[i]['track_uri'], prediction[i]))\n",
    "            batch = []\n",
    "        except:\n",
    "            print(\"ERROR\")\n",
    "            print(batch)\n",
    "            raise\n",
    "if len(batch) > 0:\n",
    "    prediction = classifier([' '.join(b['lyrics'].split()[:250]) for b in batch])\n",
    "    for i in range(0, len(batch)):\n",
    "        all_predictions.append((batch[i]['track_uri'], prediction[i]))\n",
    "\n",
    "pkl.dump(all_predictions, open('lyric_topics.pkl', 'wb'))"
   ]
  },
  {
   "cell_type": "code",
   "execution_count": null,
   "id": "cdf03e0a-1cd9-41f8-91ec-799c48259742",
   "metadata": {},
   "outputs": [],
   "source": [
    "all_predictions[0]"
   ]
  },
  {
   "cell_type": "code",
   "execution_count": null,
   "id": "56014c8f-1be0-4354-b863-bf226c918ab9",
   "metadata": {},
   "outputs": [],
   "source": []
  },
  {
   "cell_type": "code",
   "execution_count": null,
   "id": "6143300b-bb7a-477c-8039-d108327dfc33",
   "metadata": {},
   "outputs": [],
   "source": [
    "all_predictions = pkl.load(open('lyric_topics.pkl', 'rb'))"
   ]
  },
  {
   "cell_type": "code",
   "execution_count": null,
   "id": "4c316701-76e6-469b-b897-57bdb9e74218",
   "metadata": {},
   "outputs": [],
   "source": [
    "lyric_topics_df = pd.DataFrame([{'spotify_uri': p[0], **{k['label']: k['score'] for k in p[1]}} for p in all_predictions])\n",
    "lyric_topics_df.set_index('spotify_uri', inplace=True)"
   ]
  },
  {
   "cell_type": "markdown",
   "id": "8206c9d3-6e69-4a78-a0e0-4a40e8398982",
   "metadata": {},
   "source": [
    "# Plot with lyrics"
   ]
  },
  {
   "cell_type": "code",
   "execution_count": null,
   "id": "a77a9a66-16bf-4758-a5f5-f24f5cd1f086",
   "metadata": {},
   "outputs": [],
   "source": [
    "lyric_topics_df = lyric_topics_df.groupby([lyric_topics_df.index]).mean()\n",
    "track_history_no_skip_topics = pd.merge(track_history_no_skip, lyric_topics_df, how='left', left_on=['track_uri'], right_index=True)\n",
    "track_history_no_skip_topics"
   ]
  },
  {
   "cell_type": "code",
   "execution_count": null,
   "id": "f5a62a6f-2736-4539-a761-e3628109f488",
   "metadata": {},
   "outputs": [],
   "source": [
    "import os\n",
    "import mplcairo\n",
    "import matplotlib\n",
    "matplotlib.use(\"module://mplcairo.macosx\")\n",
    "print(matplotlib.get_backend())\n",
    "from matplotlib.font_manager import FontProperties\n",
    "from matplotlib import font_manager\n",
    "\n",
    "import seaborn as sns\n",
    "import matplotlib.pyplot as plt\n",
    "\n",
    "if not os.path.exists(\"timeline\"):\n",
    "    os.mkdir(\"timeline\")\n",
    "\n",
    "prop = FontProperties(fname='/System/Library/Fonts/Apple Color Emoji.ttc', size=28)\n",
    "sns.set(font=\"Meiryo\")\n",
    "\n",
    "    \n",
    "# Calculate diff from current date\n",
    "curr_date = track_history_no_skip.iloc[0].endTime - datetime.timedelta(days=7)\n",
    "curr_date = curr_date.replace(hour=0, minute=0, second=0)\n",
    "#curr_date = track_history_no_skip.iloc[0].endTime\n",
    "#curr_date += datetime.timedelta(days=30)\n",
    "max_date = track_history_no_skip.iloc[-1].endTime + datetime.timedelta(days=7)\n",
    "#max_date = curr_date + datetime.timedelta(days=30)\n",
    "\n",
    "#X_tsne_embedding_df['freshness'] = 60*60*24*5\n",
    "X_tsne_embedding_df['freshness'] = np.nan\n",
    "nan_indices = X_tsne_embedding_df['freshness'].isna()\n",
    "\n",
    "LYRIC_TOPICS = ['sadness', 'joy', 'love', 'anger', 'fear'] # Without 'Surprise' since it did never occur\n",
    "LYRIC_TOPICS_LABELS = ['😢', '🤣', '❤️', '😡', '😱']\n",
    "\n",
    "i = 0\n",
    "sns.set(font=\"Meiryo\")\n",
    "\n",
    "\n",
    "\n",
    "while curr_date < max_date:\n",
    "    track_history_no_skip_topics['freshness'] = abs((track_history_no_skip_topics['endTime'] - curr_date).dt.total_seconds()).clip(0, 60*60*24*5)\n",
    "    most_fresh = track_history_no_skip_topics[['freshness', 'track2vec_idx']].groupby(['track2vec_idx']).min()\n",
    "    X_tsne_embedding_df.loc[most_fresh[most_fresh.index != -1].index, 'freshness'] = most_fresh[most_fresh.index != -1]['freshness']\n",
    "    \n",
    "    fresh_topics = track_history_no_skip_topics[track_history_no_skip_topics['freshness'] < 60*60*24*5]\n",
    "    if fresh_topics.size > 0:\n",
    "        weighted_topic_distribution = np.multiply(fresh_topics[LYRIC_TOPICS].values, np.expand_dims((1-fresh_topics['freshness']/(60*60*24*5)).values,axis=-1))\n",
    "        weighted_topic_distribution = np.nan_to_num(weighted_topic_distribution, 0)\n",
    "        weighted_topic_distribution = np.mean(weighted_topic_distribution, axis=0)\n",
    "        if np.sum(weighted_topic_distribution) > 0:\n",
    "            norm = np.linalg.norm(weighted_topic_distribution)\n",
    "            weighted_topic_distribution = weighted_topic_distribution/norm\n",
    "    else:\n",
    "        weighted_topic_distribution = [0.0] * len(LYRIC_TOPICS)\n",
    "\n",
    "    plt.clf()\n",
    "    sns.set(style=\"ticks\", context=\"talk\")\n",
    "    plt.style.use(\"dark_background\")\n",
    "    plt.axis('off')\n",
    "    sns.despine(fig=None, ax=None, top=True, right=True, left=True, bottom=True, offset=None, trim=False)\n",
    "    plot = sns.scatterplot(data=X_tsne_embedding_df[X_tsne_embedding_df['freshness'].isna()].replace(np.nan, 60*60*24*5), x='x', y='y', hue='freshness', legend=False, palette=sns.color_palette(\"mako_r\", as_cmap=True), hue_norm=(0, 60*60*24*5*1.2), linewidth=0, alpha=0.3, s=5)\n",
    "    plot = sns.scatterplot(data=X_tsne_embedding_df[X_tsne_embedding_df['freshness'].notna()], x='x', y='y', hue='freshness', legend=False, palette=sns.color_palette(\"mako_r\", as_cmap=True), hue_norm=(0, 60*60*24*5*1.2), linewidth=0, alpha=0.8, s=8)\n",
    "    plot.set_title(curr_date.strftime(\"%b %d %Y %H:%M:%S\"))\n",
    "    fig = plot.get_figure()\n",
    "    \n",
    "    ax2 = fig.add_axes([0.8, 0.15, 0.15, 0.15])  #[lowerCorner_x, lowerCorner_y, width, height]\n",
    "    ax2.set_ylim([0, 1.0])\n",
    "    ax2.tick_params(color='#696969', labelcolor='#696969')\n",
    "    for spine in ax2.spines.values():\n",
    "        spine.set_edgecolor('#696969')\n",
    "    plot = sns.barplot(x=LYRIC_TOPICS, y=weighted_topic_distribution, ax=ax2, color='#02b6ed')\n",
    "    plot.set_xticklabels(LYRIC_TOPICS_LABELS, fontproperties=prop)\n",
    "    plot.get_yaxis().set_visible(False)\n",
    "    plt.setp(ax2.patches, linewidth=0)\n",
    "    fig.set_size_inches(20,10)\n",
    "    fig.savefig(\"timeline/{}_plot.png\".format(i)) \n",
    "    \n",
    "    i += 1\n",
    "    curr_date += datetime.timedelta(hours=6)"
   ]
  },
  {
   "cell_type": "code",
   "execution_count": null,
   "id": "456911ba-092b-441d-9ecb-4cd5be8cf30b",
   "metadata": {},
   "outputs": [],
   "source": []
  },
  {
   "cell_type": "markdown",
   "id": "b31b2ab9-122e-48bf-ae02-51fb2ced4642",
   "metadata": {},
   "source": [
    "# My Year as a Playlist"
   ]
  },
  {
   "cell_type": "code",
   "execution_count": null,
   "id": "067dbc8e-05f3-43c5-9a18-5a78d8ba43e8",
   "metadata": {},
   "outputs": [],
   "source": [
    "from sklearn.cluster import KMeans\n",
    "from sklearn.metrics import pairwise_distances_argmin_min\n",
    "\n",
    "monthly_tracks = []\n",
    "kmeans_classifiers = []\n",
    "for month in range(1, 13):\n",
    "    month_tracks = track_history_no_skip[track_history_no_skip['endTime'].dt.month == month]\n",
    "    month_embeddings = X[month_tracks[month_tracks['track2vec_idx'] != -1]['track2vec_idx']]\n",
    "    kmeans = KMeans(n_clusters=5)\n",
    "    # Fit to tracks\n",
    "    kmeans.fit(month_embeddings)\n",
    "    # Find centroids in original space\n",
    "    closest_tracks, _ = pairwise_distances_argmin_min(kmeans.cluster_centers_, X)\n",
    "    kmeans_classifiers.append(kmeans)\n",
    "    monthly_tracks.append(closest_tracks)\n"
   ]
  },
  {
   "cell_type": "code",
   "execution_count": null,
   "id": "fd748768-2296-49f0-8708-dd17211cca34",
   "metadata": {},
   "outputs": [],
   "source": [
    "# Visualize\n",
    "for i in range(0, 12):\n",
    "    month_name = datetime.datetime.strptime(str(i+1), \"%m\").strftime('%B')\n",
    "    classes = kmeans_classifiers[i].predict(X)\n",
    "    fig = px.scatter(X_tsne_embedding_df, x='x', y='y', title=\"Clusters of {}\".format(month_name), hover_data=[\n",
    "                     'Title'], color=[str(x) for x in classes], template='plotly_dark')\n",
    "    #fig.update_layout(template='seaborn')\n",
    "    fig.update_traces(marker=dict(size=4, opacity=0.5),\n",
    "                      selector=dict(mode='markers'))\n",
    "    fig.write_html('plots/clusters_{}.html'.format(month_name))"
   ]
  },
  {
   "cell_type": "code",
   "execution_count": null,
   "id": "3cf4b7a4-8390-44c1-9626-0f56520ffb68",
   "metadata": {},
   "outputs": [],
   "source": [
    "# Create playlist\n",
    "playlist_tracks = []\n",
    "for i, t_list in enumerate(monthly_tracks):\n",
    "    month_name = datetime.datetime.strptime(str(i+1), \"%m\").strftime('%B')\n",
    "    for t in t_list:\n",
    "        t_id = model.wv.index_to_key[t]\n",
    "        t = track_dict[t_id]\n",
    "        playlist_tracks.append({\n",
    "            'month': month_name,\n",
    "            'track_uri': t_id,\n",
    "            **t\n",
    "        })\n"
   ]
  },
  {
   "cell_type": "code",
   "execution_count": null,
   "id": "061d20de-4500-44ee-909c-0b64b47536d6",
   "metadata": {},
   "outputs": [],
   "source": [
    "playlist_df = pd.DataFrame(playlist_tracks).drop_duplicates(subset=['track_uri'])\n",
    "playlist_df"
   ]
  },
  {
   "cell_type": "code",
   "execution_count": null,
   "id": "08e1b963-a08a-4a33-a876-2f21ca99192d",
   "metadata": {},
   "outputs": [],
   "source": [
    "user_id = spotify_client.current_user()['id']\n",
    "playlist = spotify_client.user_playlist_create(user_id, 'My Year as a Playlist - 2021', description=\"Playlist generated by AI\")\n",
    "spotify_client.user_playlist_add_tracks(user_id, playlist['id'], tracks=playlist_df['track_uri'])"
   ]
  },
  {
   "cell_type": "code",
   "execution_count": null,
   "id": "b1defdbe-702a-4efb-ab51-0f37c4bdab89",
   "metadata": {},
   "outputs": [],
   "source": []
  }
 ],
 "metadata": {
  "kernelspec": {
   "display_name": "Python 3 (ipykernel)",
   "language": "python",
   "name": "python3"
  },
  "language_info": {
   "codemirror_mode": {
    "name": "ipython",
    "version": 3
   },
   "file_extension": ".py",
   "mimetype": "text/x-python",
   "name": "python",
   "nbconvert_exporter": "python",
   "pygments_lexer": "ipython3",
   "version": "3.9.9"
  }
 },
 "nbformat": 4,
 "nbformat_minor": 5
}
